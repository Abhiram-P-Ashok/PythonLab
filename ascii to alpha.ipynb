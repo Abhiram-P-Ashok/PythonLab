{
 "cells": [
  {
   "cell_type": "code",
   "execution_count": 1,
   "id": "efce3736",
   "metadata": {
    "scrolled": true
   },
   "outputs": [],
   "source": [
    "word = input(\"Enter a word : \")\n",
    "for letter in word:\n",
    "    print(f\"\\nThe ASCII code of {letter} is {ord(letter)}\")"
   ]
  },
  {
   "cell_type": "code",
   "execution_count": 2,
   "id": "1fc336dd",
   "metadata": {},
   "outputs": [
    {
     "name": "stdout",
     "output_type": "stream",
     "text": [
      "\n",
      "The ASCII code of h is 104\n",
      "\n",
      "The ASCII code of e is 101\n",
      "\n",
      "The ASCII code of l is 108\n",
      "\n",
      "The ASCII code of l is 108\n",
      "\n",
      "The ASCII code of o is 111\n"
     ]
    }
   ],
   "source": [
    "def main():\n",
    "    text = input(\"Enter a word : \")\n",
    "    asciiToAlpha(text)\n",
    "    \n",
    "def asciiToAlpha(text):\n",
    "    for letter in text:\n",
    "        print(f\"\\nThe ASCII code of {letter} is {ord(letter)}\")\n",
    "    \n",
    "if __name__ == \"__main__\":\n",
    "    main()"
   ]
  }
 ],
 "metadata": {
  "kernelspec": {
   "display_name": "Python 3.10.5 64-bit",
   "language": "python",
   "name": "python3"
  },
  "language_info": {
   "codemirror_mode": {
    "name": "ipython",
    "version": 3
   },
   "file_extension": ".py",
   "mimetype": "text/x-python",
   "name": "python",
   "nbconvert_exporter": "python",
   "pygments_lexer": "ipython3",
   "version": "3.10.5 (tags/v3.10.5:f377153, Jun  6 2022, 16:14:13) [MSC v.1929 64 bit (AMD64)]"
  },
  "vscode": {
   "interpreter": {
    "hash": "e593ac106456af50ce7af38f9671c411b49d6cd90f9b885e167f0f594e09038c"
   }
  }
 },
 "nbformat": 4,
 "nbformat_minor": 5
}
