{
 "cells": [
  {
   "cell_type": "code",
   "execution_count": 1,
   "metadata": {},
   "outputs": [
    {
     "name": "stdout",
     "output_type": "stream",
     "text": [
      "Concatenated List (using + operator): [1, 2, 3, 4, 5, 6]\n",
      "Concatenated List (using extend method): [1, 2, 3, 4, 5, 6]\n"
     ]
    }
   ],
   "source": [
    "# Two sample lists\n",
    "list1 = [1, 2, 3]\n",
    "list2 = [4, 5, 6]\n",
    "\n",
    "# Concatenation using the + operator\n",
    "concatenated_list1 = list1 + list2\n",
    "print(\"Concatenated List (using + operator):\", concatenated_list1)\n",
    "\n",
    "# Concatenation using the extend method\n",
    "list1.extend(list2)\n",
    "concatenated_list2 = list1.copy()  # Create a copy to preserve the original lists\n",
    "print(\"Concatenated List (using extend method):\", concatenated_list2)\n"
   ]
  }
 ],
 "metadata": {
  "kernelspec": {
   "display_name": "Python 3",
   "language": "python",
   "name": "python3"
  },
  "language_info": {
   "codemirror_mode": {
    "name": "ipython",
    "version": 3
   },
   "file_extension": ".py",
   "mimetype": "text/x-python",
   "name": "python",
   "nbconvert_exporter": "python",
   "pygments_lexer": "ipython3",
   "version": "3.10.11"
  }
 },
 "nbformat": 4,
 "nbformat_minor": 2
}
