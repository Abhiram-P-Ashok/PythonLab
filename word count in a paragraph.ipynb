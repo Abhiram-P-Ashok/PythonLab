{
 "cells": [
  {
   "cell_type": "code",
   "execution_count": null,
   "id": "6092af75",
   "metadata": {},
   "outputs": [],
   "source": [
    "para = input(\"Enter a paragraph : \\n\")\n",
    "words = para.split()\n",
    "\n",
    "word_freq = {}\n",
    "\n",
    "for word in words:\n",
    "    if word not in word_freq:\n",
    "        count = 0\n",
    "        for each in words:\n",
    "            if each==word:\n",
    "                count = count+1\n",
    "        word_freq[word]=count\n",
    "\n",
    "high_freq = max(word_freq,key=word_freq.get)\n",
    "print(f\"Word with high frequency {high_freq} repeated {word_freq[high_freq]}\")"
   ]
  },
  {
   "cell_type": "code",
   "execution_count": 7,
   "id": "d3f40acc",
   "metadata": {},
   "outputs": [
    {
     "data": {
      "text/plain": [
       "'hai'"
      ]
     },
     "execution_count": 7,
     "metadata": {},
     "output_type": "execute_result"
    }
   ],
   "source": []
  }
 ],
 "metadata": {
  "kernelspec": {
   "display_name": "Python 3",
   "language": "python",
   "name": "python3"
  },
  "language_info": {
   "codemirror_mode": {
    "name": "ipython",
    "version": 3
   },
   "file_extension": ".py",
   "mimetype": "text/x-python",
   "name": "python",
   "nbconvert_exporter": "python",
   "pygments_lexer": "ipython3",
   "version": "3.6.9"
  }
 },
 "nbformat": 4,
 "nbformat_minor": 5
}
