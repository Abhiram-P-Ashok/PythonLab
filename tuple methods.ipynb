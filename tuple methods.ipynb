{
 "cells": [
  {
   "cell_type": "code",
   "execution_count": 3,
   "metadata": {},
   "outputs": [
    {
     "name": "stdout",
     "output_type": "stream",
     "text": [
      "(1, 2, 3, 4, 5)\n",
      "First element: 1\n",
      "Slice from index 1 to 3: (2, 3, 4)\n",
      "Count of 3: 1\n",
      "Index of 4: 3\n",
      "Tuple as list: [1, 2, 3, 4, 5]\n",
      "Concatenated tuple: (1, 2, 3, 4, 5, 6, 7, 8)\n",
      "Length of the tuple: 5\n",
      "Is 3 present in the tuple? True\n",
      "Repeated tuple: (1, 2, 3, 4, 5, 1, 2, 3, 4, 5)\n",
      "Minimum value: 1\n",
      "Maximum value: 5\n"
     ]
    }
   ],
   "source": [
    "# Sample tuple\n",
    "my_tuple = (1, 2, 3, 4, 5)\n",
    "print(my_tuple)\n",
    "\n",
    "# 1. Indexing and Slicing\n",
    "print(\"First element:\", my_tuple[0])\n",
    "print(\"Slice from index 1 to 3:\", my_tuple[1:4])\n",
    "\n",
    "# 2. Count occurrences of a value\n",
    "count_of_3 = my_tuple.count(3)\n",
    "print(\"Count of 3:\", count_of_3)\n",
    "\n",
    "# 3. Find the index of the first occurrence of a value\n",
    "index_of_4 = my_tuple.index(4)\n",
    "print(\"Index of 4:\", index_of_4)\n",
    "\n",
    "# 4. Convert tuple to a list\n",
    "tuple_as_list = list(my_tuple)\n",
    "print(\"Tuple as list:\", tuple_as_list)\n",
    "\n",
    "# 5. Concatenate tuples\n",
    "another_tuple = (6, 7, 8)\n",
    "concatenated_tuple = my_tuple + another_tuple\n",
    "print(\"Concatenated tuple:\", concatenated_tuple)\n",
    "\n",
    "# 6. Length of the tuple\n",
    "tuple_length = len(my_tuple)\n",
    "print(\"Length of the tuple:\", tuple_length)\n",
    "\n",
    "# 7. Check if a value is present in the tuple\n",
    "is_present = 3 in my_tuple\n",
    "print(\"Is 3 present in the tuple?\", is_present)\n",
    "\n",
    "# 8. Repeat the tuple\n",
    "repeated_tuple = my_tuple * 2\n",
    "print(\"Repeated tuple:\", repeated_tuple)\n",
    "\n",
    "# 9. Minimum and maximum values in the tuple\n",
    "min_value = min(my_tuple)\n",
    "max_value = max(my_tuple)\n",
    "print(\"Minimum value:\", min_value)\n",
    "print(\"Maximum value:\", max_value)\n"
   ]
  }
 ],
 "metadata": {
  "kernelspec": {
   "display_name": "Python 3",
   "language": "python",
   "name": "python3"
  },
  "language_info": {
   "codemirror_mode": {
    "name": "ipython",
    "version": 3
   },
   "file_extension": ".py",
   "mimetype": "text/x-python",
   "name": "python",
   "nbconvert_exporter": "python",
   "pygments_lexer": "ipython3",
   "version": "3.10.11"
  }
 },
 "nbformat": 4,
 "nbformat_minor": 2
}
