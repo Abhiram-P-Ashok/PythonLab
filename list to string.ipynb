{
 "cells": [
  {
   "cell_type": "code",
   "execution_count": 22,
   "id": "2b9913e2",
   "metadata": {
    "scrolled": true
   },
   "outputs": [
    {
     "name": "stdout",
     "output_type": "stream",
     "text": [
      "['a', 'b', 'c', 'd', 'e', 'f', 'g', 'h', 'i', 'j', 'k', 'l', 'm', 'n', 'o', 'p', 'q', 'r', 's', 't', 'u', 'v', 'w', 'x', 'y', 'z']\n",
      "Type of var is <class 'list'>\n",
      "['A', 'B', 'C', 'D', 'E', 'F', 'G', 'H', 'I', 'J', 'K', 'L', 'M', 'N', 'O', 'P', 'Q', 'R', 'S', 'T', 'U', 'V', 'W', 'X', 'Y', 'Z']\n",
      "Type of var is <class 'str'>\n"
     ]
    }
   ],
   "source": [
    "import string\n",
    "var = list(string.ascii_lowercase)\n",
    "print(var)\n",
    "print(f\"Type of var is {type(var)}\")\n",
    "\n",
    "var = str(var)\n",
    "print(var.upper())\n",
    "print(f\"Type of var is {type(var)}\")"
   ]
  },
  {
   "cell_type": "code",
   "execution_count": 32,
   "id": "0d59e5a3",
   "metadata": {},
   "outputs": [
    {
     "name": "stdout",
     "output_type": "stream",
     "text": [
      "[2.5, 1.0, 3.0, 1405.2, 89]\n",
      "Type of var is <class 'list'>\n",
      "[205, 100, 300, 140502, 89]\n",
      "Type of var is <class 'str'>\n"
     ]
    }
   ],
   "source": [
    "var = [2.5,1.0,3.0,1405.2,89]\n",
    "print(var)\n",
    "print(f\"Type of var is {type(var)}\")\n",
    "\n",
    "var = str(var)\n",
    "print(var.replace('.','0'))\n",
    "print(f\"Type of var is {type(var)}\")"
   ]
  }
 ],
 "metadata": {
  "kernelspec": {
   "display_name": "Python 3",
   "language": "python",
   "name": "python3"
  },
  "language_info": {
   "codemirror_mode": {
    "name": "ipython",
    "version": 3
   },
   "file_extension": ".py",
   "mimetype": "text/x-python",
   "name": "python",
   "nbconvert_exporter": "python",
   "pygments_lexer": "ipython3",
   "version": "3.6.9"
  }
 },
 "nbformat": 4,
 "nbformat_minor": 5
}
