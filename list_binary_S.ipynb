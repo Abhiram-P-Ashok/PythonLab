{
 "cells": [
  {
   "cell_type": "code",
   "execution_count": 21,
   "metadata": {},
   "outputs": [
    {
     "name": "stdout",
     "output_type": "stream",
     "text": [
      "[1, 2, 3, 4, 5, 6, 7, 8, 9, 12, 14, 16, 18, 20, 26, 32, 38, 44, 50]\n",
      "9\n"
     ]
    }
   ],
   "source": [
    "list_1=[1,2,3,4,5,6,7,8,9,12,14,16,18,50,44,38,32,26,20]\n",
    "n=int(input(\"Enter the number to be searched : \"))\n",
    "first=0\n",
    "middle=int((len(list_1)-1)/2)\n",
    "flag=-1\n",
    "list_1.sort()\n",
    "print(list_1)\n",
    "print(middle)"
   ]
  },
  {
   "cell_type": "code",
   "execution_count": 22,
   "metadata": {},
   "outputs": [
    {
     "name": "stdout",
     "output_type": "stream",
     "text": [
      "The searched number  50  is found at location (according to list indexing) 18\n"
     ]
    }
   ],
   "source": [
    "if list_1[middle]==n:\n",
    "    print(\"The searched number \",n,\" is found at location ( according to list indexing ) \",middle)\n",
    "elif n<list_1[middle]:\n",
    "    for i in range(0,middle):\n",
    "        if list_1[i]==n:\n",
    "            flag=i\n",
    "            break\n",
    "    if flag==-1:\n",
    "        print(\"The searched number \",n,\" is not found in this list\")\n",
    "    else:\n",
    "        print(\"The searched number \",n,\" is found at location (according to list indexing ) \",flag)\n",
    "else:\n",
    "    for i in range(middle+1,len(list_1)+1):\n",
    "        if list_1[i]==n:\n",
    "            flag=i\n",
    "            break\n",
    "    if flag==-1:\n",
    "        print(\"The searched number \",n,\" is not found in this list\")\n",
    "    else:\n",
    "        print(\"The searched number \",n,\" is found at location (according to list indexing)\",flag)"
   ]
  }
 ],
 "metadata": {
  "kernelspec": {
   "display_name": "Python 3.10.5 64-bit",
   "language": "python",
   "name": "python3"
  },
  "language_info": {
   "codemirror_mode": {
    "name": "ipython",
    "version": 3
   },
   "file_extension": ".py",
   "mimetype": "text/x-python",
   "name": "python",
   "nbconvert_exporter": "python",
   "pygments_lexer": "ipython3",
   "version": "3.10.5"
  },
  "orig_nbformat": 4,
  "vscode": {
   "interpreter": {
    "hash": "e593ac106456af50ce7af38f9671c411b49d6cd90f9b885e167f0f594e09038c"
   }
  }
 },
 "nbformat": 4,
 "nbformat_minor": 2
}
