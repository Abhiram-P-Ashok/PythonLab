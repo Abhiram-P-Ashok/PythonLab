{
 "cells": [
  {
   "cell_type": "code",
   "execution_count": null,
   "id": "b5b4d0d7",
   "metadata": {},
   "outputs": [],
   "source": [
    "'''\n",
    "Assume that variable data referes to list = 5,3,7\n",
    "\n",
    "Q1)\n",
    "-> Replace the value at position 0 with that values negation\n",
    "-> Add the value 10 to end of data\n",
    "-> Insert 22 at position 2\n",
    "-> Remove the value at position 1\n",
    "-> Add the values in the list newdata to the end of data\n",
    "-> locate the index of the value index 7 in data\n",
    "-> sort the values in data\n",
    "\n",
    "Q2)\n",
    "-> Write a loop that accumulates the sum of the numbers named data\n",
    "-> Write a loop that replaces each number in a list with its absolute value\n",
    "'''\n"
   ]
  },
  {
   "cell_type": "code",
   "execution_count": 11,
   "id": "36b09645",
   "metadata": {
    "scrolled": false
   },
   "outputs": [
    {
     "name": "stdout",
     "output_type": "stream",
     "text": [
      "[-5, 3, 7]\n",
      "[-5, 3, 7, 10]\n",
      "[-5, 3, 22, 7, 10]\n",
      "[-5, 22, 7, 10]\n",
      "[-5, 22, 7, 10, 36, 1, 26]\n",
      "2\n",
      "[-5, 1, 7, 10, 22, 26, 36]\n"
     ]
    }
   ],
   "source": [
    "data = [5,3,7]\n",
    "\n",
    "data[0] = -data[0]\n",
    "print(data)\n",
    "\n",
    "data.append(10)\n",
    "print(data)\n",
    "\n",
    "data.insert(2,22)\n",
    "print(data)\n",
    "\n",
    "data.pop(1)\n",
    "print(data)\n",
    "\n",
    "newdata = [36,1,26]\n",
    "\n",
    "data = data+newdata\n",
    "print(data)\n",
    "\n",
    "indexpos = data.index(7)\n",
    "print(indexpos)\n",
    "\n",
    "data.sort()\n",
    "print(data)"
   ]
  },
  {
   "cell_type": "code",
   "execution_count": 13,
   "id": "18464d92",
   "metadata": {},
   "outputs": [
    {
     "name": "stdout",
     "output_type": "stream",
     "text": [
      "97\n"
     ]
    }
   ],
   "source": [
    "SUM = 0\n",
    "for num in data:\n",
    "    SUM+=num\n",
    "print(SUM)"
   ]
  },
  {
   "cell_type": "code",
   "execution_count": 17,
   "id": "9f1257d2",
   "metadata": {},
   "outputs": [
    {
     "name": "stdout",
     "output_type": "stream",
     "text": [
      "[5, 1, 7, 10, 22, 26, 36]\n"
     ]
    }
   ],
   "source": [
    "for i in range(len(data)):\n",
    "    data[i] = abs(data[i])\n",
    "print(data)"
   ]
  },
  {
   "cell_type": "code",
   "execution_count": null,
   "id": "888c41ee",
   "metadata": {},
   "outputs": [],
   "source": []
  }
 ],
 "metadata": {
  "kernelspec": {
   "display_name": "Python 3",
   "language": "python",
   "name": "python3"
  },
  "language_info": {
   "codemirror_mode": {
    "name": "ipython",
    "version": 3
   },
   "file_extension": ".py",
   "mimetype": "text/x-python",
   "name": "python",
   "nbconvert_exporter": "python",
   "pygments_lexer": "ipython3",
   "version": "3.6.9"
  }
 },
 "nbformat": 4,
 "nbformat_minor": 5
}
