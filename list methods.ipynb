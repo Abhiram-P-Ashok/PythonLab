{
 "cells": [
  {
   "cell_type": "code",
   "execution_count": 5,
   "metadata": {},
   "outputs": [
    {
     "name": "stdout",
     "output_type": "stream",
     "text": [
      "After append(6): [1, 2, 3, 4, 5, 6]\n",
      "After insert(2, 10): [1, 2, 10, 3, 4, 5, 6]\n",
      "After remove(4): [1, 2, 10, 3, 5, 6]\n",
      "After pop(3): [1, 2, 10, 5, 6]\n",
      "Popped element: 3\n",
      "Index of 1: 0\n",
      "Count of 3: 0\n",
      "After sort: [1, 2, 5, 6, 10]\n",
      "After reverse: [10, 6, 5, 2, 1]\n",
      "After extend([7, 8, 9]): [10, 6, 5, 2, 1, 7, 8, 9]\n",
      "After clear: []\n"
     ]
    }
   ],
   "source": [
    "# Sample list\n",
    "my_list = [1, 2, 3, 4, 5]\n",
    "\n",
    "# 1. Append element to the end of the list\n",
    "my_list.append(6)\n",
    "print(\"After append(6):\", my_list)\n",
    "\n",
    "# 2. Insert element at a specific index\n",
    "my_list.insert(2, 10)\n",
    "print(\"After insert(2, 10):\", my_list)\n",
    "\n",
    "# 3. Remove element by value\n",
    "my_list.remove(4)\n",
    "print(\"After remove(4):\", my_list)\n",
    "\n",
    "# 4. Pop element from a specific index\n",
    "popped_element = my_list.pop(3)\n",
    "print(\"After pop(3):\", my_list)\n",
    "print(\"Popped element:\", popped_element)\n",
    "\n",
    "# 5. Index of the first occurrence of a value\n",
    "index_of_1 = my_list.index(1)\n",
    "print(\"Index of 1:\", index_of_1)\n",
    "\n",
    "# 6. Count occurrences of a value\n",
    "count_of_3 = my_list.count(3)\n",
    "print(\"Count of 3:\", count_of_3)\n",
    "\n",
    "# 7. Sort the list\n",
    "my_list.sort()\n",
    "print(\"After sort:\", my_list)\n",
    "\n",
    "# 8. Reverse the list\n",
    "my_list.reverse()\n",
    "print(\"After reverse:\", my_list)\n",
    "\n",
    "# 9. Extend list by appending elements from another list\n",
    "another_list = [7, 8, 9]\n",
    "my_list.extend(another_list)\n",
    "print(\"After extend([7, 8, 9]):\", my_list)\n",
    "\n",
    "# 10. Clear all elements from the list\n",
    "my_list.clear()\n",
    "print(\"After clear:\", my_list)\n"
   ]
  }
 ],
 "metadata": {
  "kernelspec": {
   "display_name": "Python 3",
   "language": "python",
   "name": "python3"
  },
  "language_info": {
   "codemirror_mode": {
    "name": "ipython",
    "version": 3
   },
   "file_extension": ".py",
   "mimetype": "text/x-python",
   "name": "python",
   "nbconvert_exporter": "python",
   "pygments_lexer": "ipython3",
   "version": "3.10.11"
  }
 },
 "nbformat": 4,
 "nbformat_minor": 2
}
