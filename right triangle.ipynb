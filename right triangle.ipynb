{
 "cells": [
  {
   "cell_type": "code",
   "execution_count": null,
   "id": "5b986a51",
   "metadata": {},
   "outputs": [],
   "source": []
  },
  {
   "cell_type": "code",
   "execution_count": 1,
   "id": "dbbec76f",
   "metadata": {},
   "outputs": [
    {
     "name": "stdout",
     "output_type": "stream",
     "text": [
      "It is a right triangle\n"
     ]
    }
   ],
   "source": [
    "len1 = float(input(\"Enter length 1 : \"))\n",
    "len2 = float(input(\"Enter length 2 : \"))\n",
    "len3 = float(input(\"Enter length 3 : \"))\n",
    "\n",
    "len1 = len1**2\n",
    "len2 = len2**2\n",
    "len3 = len3**2\n",
    "\n",
    "if len1==len2+len3 or len1==len3+len2 or len3==len2+len1:\n",
    "    print(\"It is a right triangle\")\n",
    "else:\n",
    "    print(\"It is not a right triangle\")"
   ]
  }
 ],
 "metadata": {
  "kernelspec": {
   "display_name": "Python 3",
   "language": "python",
   "name": "python3"
  },
  "language_info": {
   "codemirror_mode": {
    "name": "ipython",
    "version": 3
   },
   "file_extension": ".py",
   "mimetype": "text/x-python",
   "name": "python",
   "nbconvert_exporter": "python",
   "pygments_lexer": "ipython3",
   "version": "3.10.5 (tags/v3.10.5:f377153, Jun  6 2022, 16:14:13) [MSC v.1929 64 bit (AMD64)]"
  },
  "vscode": {
   "interpreter": {
    "hash": "e593ac106456af50ce7af38f9671c411b49d6cd90f9b885e167f0f594e09038c"
   }
  }
 },
 "nbformat": 4,
 "nbformat_minor": 5
}
