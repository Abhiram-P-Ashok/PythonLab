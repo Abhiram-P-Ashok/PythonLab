{
 "cells": [
  {
   "cell_type": "code",
   "execution_count": 1,
   "id": "0f0b2ac7",
   "metadata": {},
   "outputs": [
    {
     "name": "stdout",
     "output_type": "stream",
     "text": [
      "Enter num 1 : 25\n",
      "Enter num 2 : 5\n",
      "GCD of 25 and 5 is 5\n"
     ]
    }
   ],
   "source": [
    "num1 = int(input(\"Enter num 1 : \"))\n",
    "num2 = int(input(\"Enter num 2 : \"))\n",
    "if num1>num2:\n",
    "    smaller = num2\n",
    "else:\n",
    "    smaller = num1\n",
    "for i in range(1, smaller+1):\n",
    "    if num1%i==0 and num2%i==0:\n",
    "        gcd = i\n",
    "print(f\"GCD of {num1} and {num2} is {gcd}\")"
   ]
  }
 ],
 "metadata": {
  "kernelspec": {
   "display_name": "Python 3",
   "language": "python",
   "name": "python3"
  },
  "language_info": {
   "codemirror_mode": {
    "name": "ipython",
    "version": 3
   },
   "file_extension": ".py",
   "mimetype": "text/x-python",
   "name": "python",
   "nbconvert_exporter": "python",
   "pygments_lexer": "ipython3",
   "version": "3.6.9"
  }
 },
 "nbformat": 4,
 "nbformat_minor": 5
}
