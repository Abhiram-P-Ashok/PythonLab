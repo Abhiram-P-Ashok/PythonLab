{
 "cells": [
  {
   "cell_type": "code",
   "execution_count": 3,
   "metadata": {},
   "outputs": [
    {
     "name": "stdout",
     "output_type": "stream",
     "text": [
      "Buddy says 'Woof!'\n",
      "Whiskers says 'Meow!'\n",
      "Buddy is fetching.\n",
      "Whiskers is scratching.\n"
     ]
    }
   ],
   "source": [
    "class Animal:\n",
    "    def __init__(self, name):\n",
    "        self.name = name\n",
    "\n",
    "    def make_sound(self):\n",
    "        pass  # This method will be overridden by subclasses\n",
    "\n",
    "\n",
    "class Dog(Animal):\n",
    "    def make_sound(self):\n",
    "        return \"Woof!\"\n",
    "\n",
    "    def fetch(self):\n",
    "        return f\"{self.name} is fetching.\"\n",
    "\n",
    "\n",
    "class Cat(Animal):\n",
    "    def make_sound(self):\n",
    "        return \"Meow!\"\n",
    "\n",
    "    def scratch(self):\n",
    "        return f\"{self.name} is scratching.\"\n",
    "\n",
    "\n",
    "# Creating instances of the classes\n",
    "my_dog = Dog(name=\"Buddy\")\n",
    "my_cat = Cat(name=\"Whiskers\")\n",
    "\n",
    "# Accessing attributes and methods\n",
    "print(f\"{my_dog.name} says '{my_dog.make_sound()}'\")\n",
    "print(f\"{my_cat.name} says '{my_cat.make_sound()}'\")\n",
    "\n",
    "# Accessing subclass-specific methods\n",
    "print(my_dog.fetch())\n",
    "print(my_cat.scratch())\n"
   ]
  }
 ],
 "metadata": {
  "kernelspec": {
   "display_name": "Python 3",
   "language": "python",
   "name": "python3"
  },
  "language_info": {
   "codemirror_mode": {
    "name": "ipython",
    "version": 3
   },
   "file_extension": ".py",
   "mimetype": "text/x-python",
   "name": "python",
   "nbconvert_exporter": "python",
   "pygments_lexer": "ipython3",
   "version": "3.10.11"
  }
 },
 "nbformat": 4,
 "nbformat_minor": 2
}
