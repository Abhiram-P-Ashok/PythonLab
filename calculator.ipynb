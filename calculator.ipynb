{
 "cells": [
  {
   "cell_type": "code",
   "execution_count": 6,
   "id": "b7ce5bdf",
   "metadata": {},
   "outputs": [
    {
     "name": "stdout",
     "output_type": "stream",
     "text": [
      "\n",
      "            1 - Addition\n",
      "            2 - Subtraction\n",
      "            3 - Multiplication\n",
      "            4 - Division\n",
      "            0 - Exit        \n",
      "        \n",
      "Exiting\n"
     ]
    }
   ],
   "source": [
    "def addition(n1,n2):\n",
    "    return n1+n2\n",
    "def subtraction(n1,n2):\n",
    "    return n1-n2\n",
    "def multiplication(n1,n2):\n",
    "    return n1*n2\n",
    "def division(n1,n2):\n",
    "    return n1/n2\n",
    "\n",
    "def main():\n",
    "    while True:\n",
    "        print(\"\"\"\n",
    "            1 - Addition\n",
    "            2 - Subtraction\n",
    "            3 - Multiplication\n",
    "            4 - Division\n",
    "            0 - Exit        \n",
    "        \"\"\")\n",
    "        choice = int(input(\"Enter the choice : \"))\n",
    "        if choice == 0:\n",
    "            print(\"Exiting\")\n",
    "            break\n",
    "        \n",
    "        if choice<0 or choice>4:\n",
    "            print(\"Invalid Choice\")\n",
    "            continue\n",
    "            \n",
    "        num1 = float(input(\"Enter the number 1 : \"))\n",
    "        num2 = float(input(\"Enter the number 2 : \"))\n",
    "        \n",
    "        if choice == 1:\n",
    "            res = addition(num1,num2)\n",
    "        elif choice == 2:\n",
    "            res = subtraction(num1,num2)\n",
    "        elif choice == 3:\n",
    "            res = multiplication(num1,num2)\n",
    "        elif choice == 4:\n",
    "            res = division(num1,num2)\n",
    "        else:\n",
    "            print(\"Invalid Choice\")\n",
    "        print(f\"Result is : {res}\")\n",
    "\n",
    "if __name__ == '__main__':\n",
    "    main()"
   ]
  }
 ],
 "metadata": {
  "kernelspec": {
   "display_name": "Python 3.10.5 64-bit",
   "language": "python",
   "name": "python3"
  },
  "language_info": {
   "codemirror_mode": {
    "name": "ipython",
    "version": 3
   },
   "file_extension": ".py",
   "mimetype": "text/x-python",
   "name": "python",
   "nbconvert_exporter": "python",
   "pygments_lexer": "ipython3",
   "version": "3.10.5"
  },
  "vscode": {
   "interpreter": {
    "hash": "e593ac106456af50ce7af38f9671c411b49d6cd90f9b885e167f0f594e09038c"
   }
  }
 },
 "nbformat": 4,
 "nbformat_minor": 5
}
